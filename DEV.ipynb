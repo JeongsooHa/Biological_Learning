{
 "cells": [
  {
   "cell_type": "code",
   "execution_count": null,
   "metadata": {},
   "outputs": [],
   "source": [
    "import scipy.io\n",
    "import numpy as np\n",
    "import matplotlib.image as img\n",
    "import matplotlib.pyplot as plt\n",
    "\n",
    "def readFile():\n",
    "    M = np.load('./nips-2017-adversarial-learning-development-set/imageNumpy.npy')\n",
    "\n",
    "    M=M/255.0\n",
    "    # numImages = M.shape[0]\n",
    "    # M = np.array([M[i].flatten() for i in range(0,numImages)])\n",
    "    # print(M[0,:299,:299,0].flatten())\n",
    "\n",
    "    newM = np.zeros((1000, 3*299*299))\n",
    "    for i in range(M.shape[0]):\n",
    "        R = M[i,:299,:299,0].flatten()\n",
    "        G = M[i,:299,:299,1].flatten()\n",
    "        B = M[i,:299,:299,2].flatten()\n",
    "\n",
    "        newM[i,:299*299*1] = R\n",
    "        newM[i,299*299*1:299*299*2] = G\n",
    "        newM[i,299*299*2:299*299*3] = B\n",
    "\n",
    "    print(newM.shape)\n",
    "    return newM"
   ]
  },
  {
   "cell_type": "code",
   "execution_count": null,
   "metadata": {},
   "outputs": [],
   "source": [
    "def draw_weights(synapses, Kx, Ky):\n",
    "    yy=0\n",
    "#     print(synapses[yy,:].shape)\n",
    "#     A = synapses[yy,:].reshape(height,width, color)\n",
    "    \n",
    "    HM=np.zeros((height*Ky,width*Kx, color))\n",
    "    for y in range(Ky):\n",
    "        for x in range(Kx):\n",
    "            \n",
    "            R = synapses[yy,0:height*width*1] # 299*299\n",
    "            min_R = np.amin(R)\n",
    "            if min_R < 0:\n",
    "                R += abs(min_R)\n",
    "                \n",
    "            max_R = np.amax(R)\n",
    "            R /= max_R\n",
    "            R = R.reshape(height,width)\n",
    "            \n",
    "            G = synapses[yy,height*width*1:height*width*2]\n",
    "            \n",
    "            min_G = np.amin(G)\n",
    "            if min_G < 0:\n",
    "                G += abs(min_G)\n",
    "                \n",
    "            max_G = np.amax(G)\n",
    "            G /= max_G\n",
    "            G = G.reshape(height,width)\n",
    "            \n",
    "            B = synapses[yy,height*width*2:height*width*3]\n",
    "            \n",
    "            min_B = np.amin(B)\n",
    "            if min_B < 0:\n",
    "                B += abs(min_B)\n",
    "                \n",
    "            max_B = np.amax(B)\n",
    "            B /= max_B\n",
    "            B = B.reshape(height,width)\n",
    "            \n",
    "            HM[y*height:(y+1)*height,x*width:(x+1)*width,0]=R\n",
    "            HM[y*height:(y+1)*height,x*width:(x+1)*width,1]=G\n",
    "            HM[y*height:(y+1)*height,x*width:(x+1)*width,2]=B\n",
    "            \n",
    "            \n",
    "            #print(HM[y*height:(y+1)*height,x*width:(x+1)*width, :])\n",
    "            yy += 1\n",
    "    \n",
    "    plt.clf()\n",
    "    \n",
    "#     nc=np.amax(np.absolute(HM))\n",
    "    im=plt.imshow(HM)\n",
    "    #fig.colorbar(im,ticks=[np.amin(HM), 0, np.amax(HM)])\n",
    "    plt.axis('off')\n",
    "    plt.show()\n",
    "    fig.canvas.draw()"
   ]
  },
  {
   "cell_type": "code",
   "execution_count": null,
   "metadata": {},
   "outputs": [],
   "source": [
    "M = readFile()"
   ]
  },
  {
   "cell_type": "code",
   "execution_count": null,
   "metadata": {
    "scrolled": true
   },
   "outputs": [],
   "source": [
    "eps0=2e-2    # learning rate\n",
    "Kx=10\n",
    "Ky=10\n",
    "hid=Kx*Ky    # number of hidden units that are displayed in Ky by Kx array\n",
    "mu=0.0\n",
    "sigma=1.0\n",
    "Nep=2000      # number of epochs\n",
    "Num=100    # size of the minibatch\n",
    "prec=1e-30\n",
    "delta=0.4    # Strength of the anti-hebbian learning\n",
    "p=3.0        # Lebesgue norm of the weights\n",
    "k=2"
   ]
  },
  {
   "cell_type": "code",
   "execution_count": null,
   "metadata": {},
   "outputs": [],
   "source": [
    "width = 299\n",
    "height = 299\n",
    "color = 3\n",
    "Nc=10\n",
    "Ns=1000\n",
    "N = width*height*color"
   ]
  },
  {
   "cell_type": "code",
   "execution_count": null,
   "metadata": {
    "scrolled": false
   },
   "outputs": [],
   "source": [
    "%matplotlib inline\n",
    "%matplotlib notebook\n",
    "fig=plt.figure(figsize=(10,10))\n",
    "\n",
    "synapses = np.random.normal(mu, sigma, (hid, N))\n",
    "draw_weights(synapses, Kx, Ky)\n",
    "for nep in range(Nep):\n",
    "    print(nep)\n",
    "    eps=eps0*(1-nep/Nep)\n",
    "    M=M[np.random.permutation(Ns),:]\n",
    "    for i in range(Ns//Num):\n",
    "        # Num개 씩 잘라서 학습 - batch\n",
    "        inputs=np.transpose(M[i*Num:(i+1)*Num,:])\n",
    "        sig=np.sign(synapses)\n",
    "        tot_input=np.dot(sig*np.absolute(synapses)**(p-1),inputs)\n",
    "\n",
    "        y=np.argsort(tot_input,axis=0)\n",
    "        yl=np.zeros((hid,Num))\n",
    "        yl[y[hid-1,:],np.arange(Num)]=1.0\n",
    "        yl[y[hid-k],np.arange(Num)]=-delta\n",
    "\n",
    "        xx=np.sum(np.multiply(yl,tot_input),1)\n",
    "        ds=np.dot(yl,np.transpose(inputs)) - np.multiply(np.tile(xx.reshape(xx.shape[0],1),(1,N)),synapses)\n",
    "\n",
    "        nc=np.amax(np.absolute(ds))\n",
    "        if nc<prec:\n",
    "            nc=prec\n",
    "\n",
    "        synapses += eps*np.true_divide(ds,nc)\n",
    "        \n",
    "    draw_weights(synapses, Kx, Ky)\n",
    "    print(synapses.shape)\n",
    "    print(nep)\n"
   ]
  },
  {
   "cell_type": "code",
   "execution_count": null,
   "metadata": {},
   "outputs": [],
   "source": []
  },
  {
   "cell_type": "code",
   "execution_count": null,
   "metadata": {},
   "outputs": [],
   "source": []
  }
 ],
 "metadata": {
  "kernelspec": {
   "display_name": "Python 3",
   "language": "python",
   "name": "python3"
  },
  "language_info": {
   "codemirror_mode": {
    "name": "ipython",
    "version": 3
   },
   "file_extension": ".py",
   "mimetype": "text/x-python",
   "name": "python",
   "nbconvert_exporter": "python",
   "pygments_lexer": "ipython3",
   "version": "3.5.2"
  }
 },
 "nbformat": 4,
 "nbformat_minor": 2
}
