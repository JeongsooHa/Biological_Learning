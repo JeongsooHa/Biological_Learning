{
 "cells": [
  {
   "cell_type": "code",
   "execution_count": 1,
   "metadata": {},
   "outputs": [
    {
     "name": "stdout",
     "output_type": "stream",
     "text": [
      "(50000, 3072)\n"
     ]
    }
   ],
   "source": [
    "import scipy.io\n",
    "import numpy as np\n",
    "import matplotlib.image as img\n",
    "\n",
    "import matplotlib.pyplot as plt\n",
    "\n",
    "dir = \"./cifar-10-batches-mat/\"\n",
    "filelist = [\"data_batch_1.mat\",\"data_batch_2.mat\",\"data_batch_3.mat\",\"data_batch_4.mat\",\"data_batch_5.mat\"]\n",
    "\n",
    "width = 32\n",
    "height = 32\n",
    "color = 3\n",
    "Nc=10\n",
    "Ns=50000\n",
    "N = width*height*color\n",
    "M=np.zeros((0,N))\n",
    "\n",
    "for file in filelist:\n",
    "    \n",
    "    mat = scipy.io.loadmat(dir+'/'+file)\n",
    "    M=np.concatenate((M, mat['data']), axis=0)\n",
    "\n",
    "M=M/255.0 \n",
    "\n",
    "\n",
    "print(M.shape)\n"
   ]
  },
  {
   "cell_type": "code",
   "execution_count": 2,
   "metadata": {},
   "outputs": [],
   "source": [
    "np.save('test3.npy', M)"
   ]
  },
  {
   "cell_type": "code",
   "execution_count": 3,
   "metadata": {},
   "outputs": [],
   "source": [
    "a = np.load('test3.npy')"
   ]
  },
  {
   "cell_type": "code",
   "execution_count": 4,
   "metadata": {},
   "outputs": [
    {
     "data": {
      "text/plain": [
       "(50000, 3072)"
      ]
     },
     "execution_count": 4,
     "metadata": {},
     "output_type": "execute_result"
    }
   ],
   "source": [
    "a.shape"
   ]
  },
  {
   "cell_type": "code",
   "execution_count": null,
   "metadata": {},
   "outputs": [],
   "source": []
  }
 ],
 "metadata": {
  "kernelspec": {
   "display_name": "Python 3",
   "language": "python",
   "name": "python3"
  },
  "language_info": {
   "codemirror_mode": {
    "name": "ipython",
    "version": 3
   },
   "file_extension": ".py",
   "mimetype": "text/x-python",
   "name": "python",
   "nbconvert_exporter": "python",
   "pygments_lexer": "ipython3",
   "version": "3.6.7"
  }
 },
 "nbformat": 4,
 "nbformat_minor": 2
}
