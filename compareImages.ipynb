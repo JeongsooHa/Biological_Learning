{
 "cells": [
  {
   "cell_type": "code",
   "execution_count": 2,
   "metadata": {},
   "outputs": [],
   "source": [
    "import scipy.io\n",
    "import numpy as np\n",
    "import matplotlib.image as img\n",
    "\n",
    "import matplotlib.pyplot as plt\n",
    "\n",
    "\n",
    "dir = \"./cifar\"\n",
    "filelist = [\"data_batch_1.mat\",\"data_batch_2.mat\",\"data_batch_3.mat\",\"data_batch_4.mat\",\"data_batch_5.mat\"]\n",
    "\n",
    "width = 32 # 299\n",
    "height = 32 # 299\n",
    "color = 3"
   ]
  },
  {
   "cell_type": "code",
   "execution_count": 3,
   "metadata": {},
   "outputs": [],
   "source": [
    "def calculate(img, synapses):\n",
    "    # img (1, 3072)\n",
    "    # synapses( hid, 3072 )\n",
    "    img = img/255.0\n",
    "    print(img)\n",
    "    trans_img = np.transpose(img)\n",
    "    m = np.argmax(np.dot(synapses, trans_img))\n",
    "    output = img*synapses[m] # 1,3072\n",
    "    \n",
    "    # reshape\n",
    "    \n",
    "    output = get_3d_img(output) # 1,32,32,3\n",
    "    return output"
   ]
  },
  {
   "cell_type": "code",
   "execution_count": 4,
   "metadata": {},
   "outputs": [],
   "source": [
    "def get_flattend_img(img):\n",
    "    newImg = np.zeros((1, 3*width*height))\n",
    "    R = img[0,:,:,0].flatten()\n",
    "    G = img[0,:,:,1].flatten()\n",
    "    B = img[0,:,:,2].flatten()\n",
    "\n",
    "    newImg[0,:height*width*1] = R\n",
    "    newImg[0,height*width*1:height*width*2] = G\n",
    "    newImg[0,height*width*2:height*width*3] = B\n",
    "    \n",
    "    return newImg\n",
    "\n"
   ]
  },
  {
   "cell_type": "code",
   "execution_count": 5,
   "metadata": {},
   "outputs": [],
   "source": [
    "def get_3d_img(img):\n",
    "    \n",
    "    single_img_reshaped = np.transpose(np.reshape(img,(1,3, 32,32)), (0,2,3,1))\n",
    "\n",
    "    return single_img_reshaped"
   ]
  },
  {
   "cell_type": "code",
   "execution_count": 6,
   "metadata": {},
   "outputs": [
    {
     "ename": "FileNotFoundError",
     "evalue": "[Errno 2] No such file or directory: 'synapse.npy'",
     "output_type": "error",
     "traceback": [
      "\u001b[0;31m---------------------------------------------------------------------------\u001b[0m",
      "\u001b[0;31mFileNotFoundError\u001b[0m                         Traceback (most recent call last)",
      "\u001b[0;32m<ipython-input-6-a5315e7a34ba>\u001b[0m in \u001b[0;36m<module>\u001b[0;34m()\u001b[0m\n\u001b[0;32m----> 1\u001b[0;31m \u001b[0msynapses\u001b[0m \u001b[0;34m=\u001b[0m \u001b[0mnp\u001b[0m\u001b[0;34m.\u001b[0m\u001b[0mload\u001b[0m\u001b[0;34m(\u001b[0m\u001b[0;34m\"synapse.npy\"\u001b[0m\u001b[0;34m)\u001b[0m\u001b[0;34m\u001b[0m\u001b[0m\n\u001b[0m\u001b[1;32m      2\u001b[0m \u001b[0msynapses_3_7\u001b[0m \u001b[0;34m=\u001b[0m \u001b[0mnp\u001b[0m\u001b[0;34m.\u001b[0m\u001b[0mload\u001b[0m\u001b[0;34m(\u001b[0m\u001b[0;34m\"synapses_3_7.npy\"\u001b[0m\u001b[0;34m)\u001b[0m\u001b[0;34m\u001b[0m\u001b[0m\n\u001b[1;32m      3\u001b[0m \u001b[0;34m\u001b[0m\u001b[0m\n\u001b[1;32m      4\u001b[0m \u001b[0;31m# img reading\u001b[0m\u001b[0;34m\u001b[0m\u001b[0;34m\u001b[0m\u001b[0m\n\u001b[1;32m      5\u001b[0m \u001b[0;34m\u001b[0m\u001b[0m\n",
      "\u001b[0;32m/usr/local/lib/python3.5/dist-packages/numpy/lib/npyio.py\u001b[0m in \u001b[0;36mload\u001b[0;34m(file, mmap_mode, allow_pickle, fix_imports, encoding)\u001b[0m\n\u001b[1;32m    368\u001b[0m     \u001b[0mown_fid\u001b[0m \u001b[0;34m=\u001b[0m \u001b[0;32mFalse\u001b[0m\u001b[0;34m\u001b[0m\u001b[0m\n\u001b[1;32m    369\u001b[0m     \u001b[0;32mif\u001b[0m \u001b[0misinstance\u001b[0m\u001b[0;34m(\u001b[0m\u001b[0mfile\u001b[0m\u001b[0;34m,\u001b[0m \u001b[0mbasestring\u001b[0m\u001b[0;34m)\u001b[0m\u001b[0;34m:\u001b[0m\u001b[0;34m\u001b[0m\u001b[0m\n\u001b[0;32m--> 370\u001b[0;31m         \u001b[0mfid\u001b[0m \u001b[0;34m=\u001b[0m \u001b[0mopen\u001b[0m\u001b[0;34m(\u001b[0m\u001b[0mfile\u001b[0m\u001b[0;34m,\u001b[0m \u001b[0;34m\"rb\"\u001b[0m\u001b[0;34m)\u001b[0m\u001b[0;34m\u001b[0m\u001b[0m\n\u001b[0m\u001b[1;32m    371\u001b[0m         \u001b[0mown_fid\u001b[0m \u001b[0;34m=\u001b[0m \u001b[0;32mTrue\u001b[0m\u001b[0;34m\u001b[0m\u001b[0m\n\u001b[1;32m    372\u001b[0m     \u001b[0;32melif\u001b[0m \u001b[0mis_pathlib_path\u001b[0m\u001b[0;34m(\u001b[0m\u001b[0mfile\u001b[0m\u001b[0;34m)\u001b[0m\u001b[0;34m:\u001b[0m\u001b[0;34m\u001b[0m\u001b[0m\n",
      "\u001b[0;31mFileNotFoundError\u001b[0m: [Errno 2] No such file or directory: 'synapse.npy'"
     ]
    }
   ],
   "source": [
    "synapses = np.load(\"synapse.npy\")\n",
    "synapses_3_7 = np.load(\"synapses_3_7.npy\")\n",
    "\n",
    "# img reading\n",
    "\n",
    "mat = scipy.io.loadmat(dir+'/'+'test_batch.mat')\n",
    "test = mat['data']\n",
    "\n",
    "\n",
    "img = test[1050, :].reshape(1,3072)\n",
    "\n",
    "plt.subplot(311)\n",
    "ori_img = get_3d_img(img)/255.0\n",
    "plt.imshow(ori_img[0])\n",
    "\n",
    "# img = get_flattend_img(img_filtered)\n",
    "\n",
    "print(\"calculating...v1\")\n",
    "img_filtered_v1 = calculate(img,synapses)\n",
    "print(\"calculating...v2\")\n",
    "img_filtered_v2 = calculate(img,synapses_3_7)\n",
    "\n",
    "plt.subplot(312)\n",
    "plt.imshow(img_filtered_v1[0])\n",
    "\n",
    "plt.subplot(313)\n",
    "plt.imshow(img_filtered_v2[0])\n",
    "\n",
    "diff_v1 = np.sum(np.absolute(ori_img-img_filtered_v1))/3072\n",
    "diff_v2 = np.sum(np.absolute(ori_img-img_filtered_v2))/3072\n",
    "\n",
    "print(\"differ_v1:\",diff_v1)\n",
    "print(\"differ_v2:\",diff_v2)"
   ]
  },
  {
   "cell_type": "code",
   "execution_count": null,
   "metadata": {},
   "outputs": [],
   "source": []
  }
 ],
 "metadata": {
  "kernelspec": {
   "display_name": "Python 3",
   "language": "python",
   "name": "python3"
  },
  "language_info": {
   "codemirror_mode": {
    "name": "ipython",
    "version": 3
   },
   "file_extension": ".py",
   "mimetype": "text/x-python",
   "name": "python",
   "nbconvert_exporter": "python",
   "pygments_lexer": "ipython3",
   "version": "3.5.2"
  }
 },
 "nbformat": 4,
 "nbformat_minor": 2
}
